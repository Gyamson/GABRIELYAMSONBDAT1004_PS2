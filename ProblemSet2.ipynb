{
 "cells": [
  {
   "cell_type": "markdown",
   "id": "5a462ea3-365a-4107-acf8-ffa3fb3de328",
   "metadata": {},
   "source": [
    "# QUESTION 1"
   ]
  },
  {
   "cell_type": "code",
   "execution_count": 10,
   "id": "dff82655-b811-463f-b30c-68abf7b1da82",
   "metadata": {},
   "outputs": [
    {
     "data": {
      "text/plain": [
       "6"
      ]
     },
     "execution_count": 10,
     "metadata": {},
     "output_type": "execute_result"
    }
   ],
   "source": [
    "a = 0  # global variable 'a' is set to 0\n",
    "\n",
    "def b():\n",
    "    global a  # Use the global variable 'a'\n",
    "    a = c(a)  # Updating 'a' with the result of c(a)\n",
    "\n",
    "def c(a):\n",
    "    return a + 2  # Return 'a' incremented by 2\n",
    "\n",
    "\n",
    "b()  # At this execution, 'a' changes to 2\n",
    "b()  # After this, 'a' increments by 2 and becomes 4\n",
    "b()  # After this, 'a' increments by 2 and becomes 6\n",
    "\n",
    "a    # 'a' becomes 6 when its evaluated"
   ]
  },
  {
   "cell_type": "markdown",
   "id": "3c01d749-ffa2-4f75-a5ff-387bf4c71445",
   "metadata": {},
   "source": [
    "# QUESTION 2"
   ]
  },
  {
   "cell_type": "code",
   "execution_count": 14,
   "id": "6b128c02-cbc9-4680-a37a-78dbc3a15594",
   "metadata": {},
   "outputs": [
    {
     "name": "stdout",
     "output_type": "stream",
     "text": [
      "123\n",
      "File idterm.py not found.\n"
     ]
    }
   ],
   "source": [
    "def fileLength(file_name):\n",
    "    try:\n",
    "        file = open(file_name, 'r')  # Opening the file in read mode\n",
    "        contents = file.read()       \n",
    "        file.close()               \n",
    "        print(len(contents))         # Print the length of the contents\n",
    "    except FileNotFoundError:\n",
    "        print('File {} not found.'.format(file_name))  # Handling file not found error\n",
    "\n",
    "# Example usage:\n",
    "fileLength('Filelength.txt')  # printing the length of the file\n",
    "fileLength('idterm.py')   # printing \"File idterm.py which does not exist.\"\n",
    "\n"
   ]
  },
  {
   "cell_type": "markdown",
   "id": "27fa5228-f79e-456e-ab84-ca5ee533b4e5",
   "metadata": {},
   "source": [
    "# QUESTION 3"
   ]
  },
  {
   "cell_type": "code",
   "execution_count": 15,
   "id": "a3e3b5b7-04d1-4383-bbc6-57cc68f49568",
   "metadata": {},
   "outputs": [
    {
     "name": "stdout",
     "output_type": "stream",
     "text": [
      "I am a Kangaroo located at coordinates (0,0)\n",
      "['doll', 'firetruck', 'kitten']\n",
      "I am a Kangaroo located at coordinates (3,0)\n"
     ]
    }
   ],
   "source": [
    "class Marsupial:\n",
    "    def __init__(self):\n",
    "        self.pouch = []  # Initializing an empty pouch\n",
    "    \n",
    "    def put_in_pouch(self, item):\n",
    "        self.pouch.append(item)  # Adding item to the pouch\n",
    "    \n",
    "    def pouch_contents(self): # Method to return the contents of the pouch\n",
    "        return self.pouch  \n",
    "\n",
    "class Kangaroo(Marsupial):\n",
    "    def __init__(self, x, y):\n",
    "        super().__init__()  # Initializing the parent class's constructor\n",
    "        self.x = x  \n",
    "        self.y = y  \n",
    "    \n",
    "    def jump(self, dx, dy):   # Method to move the Kangaroo\n",
    "        self.x += dx  \n",
    "        self.y += dy  \n",
    "    \n",
    "    def __str__(self):  # Method to provide a custom string representation\n",
    "        return f\"I am a Kangaroo located at coordinates ({self.x},{self.y})\"  \n",
    "\n",
    "\n",
    "k = Kangaroo(0, 0)\n",
    "print(k)  # Output: I am a Kangaroo located at coordinates (0,0)\n",
    "k.put_in_pouch('doll')\n",
    "k.put_in_pouch('firetruck')\n",
    "k.put_in_pouch('kitten')\n",
    "print(k.pouch_contents())  # Output: ['doll', 'firetruck', 'kitten']\n",
    "k.jump(1, 0)\n",
    "k.jump(1, 0)\n",
    "k.jump(1, 0)\n",
    "print(k)  # Output: I am a Kangaroo located at coordinates (3,0)\n"
   ]
  },
  {
   "cell_type": "markdown",
   "id": "35b7187a-4ad8-4588-accd-f787d2bfca91",
   "metadata": {},
   "source": [
    "# QUESTION 4"
   ]
  },
  {
   "cell_type": "code",
   "execution_count": 17,
   "id": "30ad2e2e-057c-4e57-a794-99785cacce9e",
   "metadata": {},
   "outputs": [
    {
     "name": "stdout",
     "output_type": "stream",
     "text": [
      "1\n"
     ]
    }
   ],
   "source": [
    "def collatz(x):\n",
    "    print(x)  \n",
    "    if x == 1: # Base case: Stop when x is 1\n",
    "        return  \n",
    "    elif x % 2 == 0:   #if x is even\n",
    "        collatz(x // 2)  \n",
    "    else:              #if x is odd\n",
    "        collatz(3 * x + 1)  \n",
    "\n",
    "collatz(1) "
   ]
  },
  {
   "cell_type": "code",
   "execution_count": 18,
   "id": "4190647b-5077-4d6e-a9e8-0393ec9bd44a",
   "metadata": {},
   "outputs": [
    {
     "name": "stdout",
     "output_type": "stream",
     "text": [
      "10\n",
      "5\n",
      "16\n",
      "8\n",
      "4\n",
      "2\n",
      "1\n"
     ]
    }
   ],
   "source": [
    "collatz(10)  "
   ]
  },
  {
   "cell_type": "markdown",
   "id": "1a0a3d23-5989-4608-9937-de435cc90061",
   "metadata": {},
   "source": [
    "# QUESTION 5"
   ]
  },
  {
   "cell_type": "code",
   "execution_count": 21,
   "id": "86df475f-182e-4f63-b667-3ef39c194786",
   "metadata": {},
   "outputs": [
    {
     "name": "stdout",
     "output_type": "stream",
     "text": [
      "0\n",
      "1\n",
      "11\n",
      "1001\n"
     ]
    }
   ],
   "source": [
    "def binary(n):\n",
    "    \n",
    "    if n < 2:  # Base case: n is 0 or 1\n",
    "        print(n, end='')\n",
    "    else:\n",
    "        binary(n // 2)  # Recursive call with floor division by 2\n",
    "        print(n % 2, end='')  # Print the remainder without a newline\n",
    "\n",
    "\n",
    "binary(0)  \n",
    "print()  \n",
    "binary(1)  \n",
    "print()  \n",
    "binary(3) \n",
    "print()  \n",
    "binary(9)  \n",
    "print()  \n"
   ]
  },
  {
   "cell_type": "markdown",
   "id": "2f3a4f8b-6e64-4fba-bbf8-1e5447eddf25",
   "metadata": {},
   "source": [
    "# QUESTION 6"
   ]
  },
  {
   "cell_type": "code",
   "execution_count": 24,
   "id": "341c8893-8538-4a61-aebc-62059e079a8b",
   "metadata": {},
   "outputs": [
    {
     "name": "stdout",
     "output_type": "stream",
     "text": [
      "W3C Mission\n",
      " Principles\n"
     ]
    }
   ],
   "source": [
    "from html.parser import HTMLParser\n",
    "\n",
    "class HeadingParser(HTMLParser):\n",
    "    def __init__(self):\n",
    "        super().__init__()\n",
    "        self.current_level = 0  # Tracking the current heading level\n",
    "\n",
    "    def handle_starttag(self, tag, attrs):\n",
    "        if tag in ['h1', 'h2', 'h3', 'h4', 'h5', 'h6']:\n",
    "            self.current_level = int(tag[1])  # Getting the level from the tag name\n",
    "\n",
    "    def handle_endtag(self, tag):\n",
    "        if tag in ['h1', 'h2', 'h3', 'h4', 'h5', 'h6']:\n",
    "            self.current_level = 0  # Resetting the level after the tag ends\n",
    "\n",
    "    def handle_data(self, data):\n",
    "        if self.current_level > 0:\n",
    "            print(' ' * (self.current_level - 1) + data)\n",
    "\n",
    "\n",
    "infile = open('w3c.txt')\n",
    "content = infile.read()\n",
    "infile.close()\n",
    "\n",
    "hp = HeadingParser()\n",
    "hp.feed(content)\n"
   ]
  },
  {
   "cell_type": "markdown",
   "id": "f411e636-22f9-4a15-be8f-ce3b89603643",
   "metadata": {},
   "source": [
    "# QUESTION 7"
   ]
  },
  {
   "cell_type": "code",
   "execution_count": 27,
   "id": "0b8f4d46-4d64-4e08-a44f-4158a1324261",
   "metadata": {},
   "outputs": [
    {
     "name": "stdout",
     "output_type": "stream",
     "text": [
      "http://reed.cs.depaul.edu/lperkovic/csc242/test1.html\n"
     ]
    }
   ],
   "source": [
    "import requests\n",
    "from bs4 import BeautifulSoup\n",
    "from urllib.parse import urljoin\n",
    "\n",
    "def webdir(url, depth, indent):\n",
    "    if depth < 0:\n",
    "        return\n",
    "    \n",
    "    # Printing the current URL with the specified indentation\n",
    "    print(' ' * indent + url)\n",
    "    \n",
    "    try:\n",
    "        response = requests.get(url)\n",
    "        if response.status_code != 200:\n",
    "            return\n",
    "        soup = BeautifulSoup(response.content, 'html.parser')\n",
    "        \n",
    "        # Finding all anchor tags and recursively exploring the links\n",
    "        for link in soup.find_all('a', href=True):\n",
    "            href = link['href']\n",
    "            full_url = urljoin(url, href)\n",
    "            if full_url.startswith('http'):\n",
    "                webdir(full_url, depth - 1, indent + 4)\n",
    "    except requests.exceptions.RequestException as e:\n",
    "        print(e)\n",
    "\n",
    "\n",
    "webdir('http://reed.cs.depaul.edu/lperkovic/csc242/test1.html', 2, 0)\n",
    "\n"
   ]
  },
  {
   "cell_type": "markdown",
   "id": "0641732f-bb0d-474f-bb1d-26d487092e11",
   "metadata": {},
   "source": [
    "# QUESTION 8"
   ]
  },
  {
   "cell_type": "code",
   "execution_count": 32,
   "id": "fb756513-5235-4c76-86d5-ab9da4990c5e",
   "metadata": {},
   "outputs": [
    {
     "name": "stdout",
     "output_type": "stream",
     "text": [
      "All temperature data:\n",
      "24.8\n",
      "28.4\n",
      "27.9\n",
      "27.6\n",
      "4.2\n",
      "8.3\n",
      "15.7\n",
      "10.4\n",
      "13.6\n",
      "20.7\n",
      "27.7\n",
      "22.2\n",
      "\n",
      "All cities (no repetition):\n",
      "Mumbai\n",
      "London\n",
      "Cairo\n",
      "\n",
      "All records for India:\n",
      "('Mumbai', 'India', 'Winter', 24.8, 5.9)\n",
      "('Mumbai', 'India', 'Spring', 28.4, 16.2)\n",
      "('Mumbai', 'India', 'Summer', 27.9, 1549.4)\n",
      "('Mumbai', 'India', 'Fall', 27.6, 346.0)\n",
      "\n",
      "All Fall records:\n",
      "('Mumbai', 'India', 'Fall', 27.6, 346.0)\n",
      "('London', 'United Kingdom', 'Fall', 10.4, 218.5)\n",
      "('Cairo', 'Egypt', 'Fall', 22.2, 4.5)\n",
      "\n",
      "City, country, and season for rainfall between 200 and 400 mm:\n",
      "('Mumbai', 'India', 'Fall')\n",
      "('London', 'United Kingdom', 'Winter')\n",
      "('London', 'United Kingdom', 'Fall')\n",
      "\n",
      "City and country for Fall temperature above 20 degrees (sorted by temperature):\n",
      "('Cairo', 'Egypt')\n",
      "('Mumbai', 'India')\n",
      "\n",
      "Total annual rainfall for Cairo:\n",
      "27.6\n",
      "\n",
      "Total rainfall for each season:\n",
      "Fall: 569.0\n",
      "Spring: 192.29999999999998\n",
      "Summer: 1706.5\n",
      "Winter: 230.1\n"
     ]
    }
   ],
   "source": [
    "import sqlite3\n",
    "\n",
    "# creating the database\n",
    "conn = sqlite3.connect('weather.db')\n",
    "cursor = conn.cursor()\n",
    "\n",
    "cursor.execute('DROP TABLE IF EXISTS Weather')\n",
    "\n",
    "# Creating the table \n",
    "cursor.execute('''\n",
    "CREATE TABLE IF NOT EXISTS Weather (\n",
    "    City TEXT,\n",
    "    Country TEXT,\n",
    "    Season TEXT,\n",
    "    Temperature REAL,\n",
    "    Rainfall REAL\n",
    ")\n",
    "''')\n",
    "\n",
    "# Inserting the data into the table\n",
    "data = [\n",
    "    ('Mumbai', 'India', 'Winter', 24.8, 5.9),\n",
    "    ('Mumbai', 'India', 'Spring', 28.4, 16.2),\n",
    "    ('Mumbai', 'India', 'Summer', 27.9, 1549.4),\n",
    "    ('Mumbai', 'India', 'Fall', 27.6, 346.0),\n",
    "    ('London', 'United Kingdom', 'Winter', 4.2, 207.7),\n",
    "    ('London', 'United Kingdom', 'Spring', 8.3, 169.6),\n",
    "    ('London', 'United Kingdom', 'Summer', 15.7, 157.0),\n",
    "    ('London', 'United Kingdom', 'Fall', 10.4, 218.5),\n",
    "    ('Cairo', 'Egypt', 'Winter', 13.6, 16.5),\n",
    "    ('Cairo', 'Egypt', 'Spring', 20.7, 6.5),\n",
    "    ('Cairo', 'Egypt', 'Summer', 27.7, 0.1),\n",
    "    ('Cairo', 'Egypt', 'Fall', 22.2, 4.5)\n",
    "]\n",
    "\n",
    "cursor.executemany('INSERT INTO Weather VALUES (?, ?, ?, ?, ?)', data)\n",
    "conn.commit()\n",
    "\n",
    "# All Queries\n",
    "\n",
    "# a) All the temperature data\n",
    "cursor.execute('SELECT Temperature FROM Weather')\n",
    "print(\"All temperature data:\")\n",
    "for row in cursor.fetchall():\n",
    "    print(row[0])\n",
    "\n",
    "# b) All the cities, but without repetition\n",
    "cursor.execute('SELECT DISTINCT City FROM Weather')\n",
    "print(\"\\nAll cities (no repetition):\")\n",
    "for row in cursor.fetchall():\n",
    "    print(row[0])\n",
    "\n",
    "# c) All the records for India\n",
    "cursor.execute(\"SELECT * FROM Weather WHERE Country = 'India'\")\n",
    "print(\"\\nAll records for India:\")\n",
    "for row in cursor.fetchall():\n",
    "    print(row)\n",
    "\n",
    "# d) All the Fall records\n",
    "cursor.execute(\"SELECT * FROM Weather WHERE Season = 'Fall'\")\n",
    "print(\"\\nAll Fall records:\")\n",
    "for row in cursor.fetchall():\n",
    "    print(row)\n",
    "\n",
    "# e) The city, country, and season for which the average rainfall is between 200 and 400 millimeters\n",
    "cursor.execute(\"SELECT City, Country, Season FROM Weather WHERE Rainfall BETWEEN 200 AND 400\")\n",
    "print(\"\\nCity, country, and season for rainfall between 200 and 400 mm:\")\n",
    "for row in cursor.fetchall():\n",
    "    print(row)\n",
    "\n",
    "# f) The city and country for which the average Fall temperature is above 20 degrees, in increasing temperature order\n",
    "cursor.execute(\"SELECT City, Country FROM Weather WHERE Season = 'Fall' AND Temperature > 20 ORDER BY Temperature ASC\")\n",
    "print(\"\\nCity and country for Fall temperature above 20 degrees (sorted by temperature):\")\n",
    "for row in cursor.fetchall():\n",
    "    print(row)\n",
    "\n",
    "# g) The total annual rainfall for Cairo\n",
    "cursor.execute(\"SELECT SUM(Rainfall) FROM Weather WHERE City = 'Cairo'\")\n",
    "print(\"\\nTotal annual rainfall for Cairo:\")\n",
    "print(cursor.fetchone()[0])\n",
    "\n",
    "# h) The total rainfall for each season\n",
    "cursor.execute(\"SELECT Season, SUM(Rainfall) FROM Weather GROUP BY Season\")\n",
    "print(\"\\nTotal rainfall for each season:\")\n",
    "for row in cursor.fetchall():\n",
    "    print(f\"{row[0]}: {row[1]}\")\n",
    "\n",
    "# Close the connection\n",
    "conn.close()"
   ]
  },
  {
   "cell_type": "markdown",
   "id": "ab6eb299-8304-4acc-8e97-608d571074a1",
   "metadata": {},
   "source": [
    "# QUESTION 9"
   ]
  },
  {
   "cell_type": "code",
   "execution_count": 29,
   "id": "c104d167-2222-438b-87d7-d786cbe97a92",
   "metadata": {},
   "outputs": [
    {
     "name": "stdout",
     "output_type": "stream",
     "text": [
      "['THE', 'QUICK', 'BROWN', 'FOX', 'JUMPS', 'OVER', 'THE', 'LAZY', 'DOG']\n",
      "['the', 'quick', 'brown', 'fox', 'jumps', 'over', 'the', 'lazy', 'dog']\n",
      "[3, 5, 5, 3, 5, 4, 3, 4, 3]\n",
      "[['THE', 'the', 3], ['QUICK', 'quick', 5], ['BROWN', 'brown', 5], ['FOX', 'fox', 3], ['JUMPS', 'jumps', 5], ['OVER', 'over', 4], ['THE', 'the', 3], ['LAZY', 'lazy', 4], ['DOG', 'dog', 3]]\n",
      "['quick', 'brown', 'jumps', 'over', 'lazy']\n"
     ]
    }
   ],
   "source": [
    "# Defining the list of words\n",
    "words = ['The', 'quick', 'brown', 'fox', 'jumps', 'over', 'the', 'lazy', 'dog']\n",
    "\n",
    "# a) Uppercase all the words\n",
    "uppercase_words = [word.upper() for word in words]\n",
    "print(uppercase_words)\n",
    "# Output: ['THE', 'QUICK', 'BROWN', 'FOX', 'JUMPS', 'OVER', 'THE', 'LAZY', 'DOG']\n",
    "\n",
    "# b) Lowercase all the words\n",
    "lowercase_words = [word.lower() for word in words]\n",
    "print(lowercase_words)\n",
    "# Output: ['the', 'quick', 'brown', 'fox', 'jumps', 'over', 'the', 'lazy', 'dog']\n",
    "\n",
    "# c) List of lengths of each word\n",
    "lengths = [len(word) for word in words]\n",
    "print(lengths)\n",
    "# Output: [3, 5, 5, 3, 5, 4, 3, 4, 3]\n",
    "\n",
    "# d) List containing a list for every word with the word in uppercase, lowercase, and length\n",
    "word_info = [[word.upper(), word.lower(), len(word)] for word in words]\n",
    "print(word_info)\n",
    "# Output: [['THE', 'the', 3], ['QUICK', 'quick', 5], ['BROWN', 'brown', 5], ['FOX', 'fox', 3], ['JUMPS', 'jumps', 5], ['OVER', 'over', 4], ['THE', 'the', 3], ['LAZY', 'lazy', 4], ['DOG', 'dog', 3]]\n",
    "\n",
    "# e) List of words containing 4 or more characters\n",
    "long_words = [word for word in words if len(word) >= 4]\n",
    "print(long_words)\n",
    "# Output: ['quick', 'brown', 'jumps', 'over', 'lazy']\n",
    "\n"
   ]
  },
  {
   "cell_type": "code",
   "execution_count": null,
   "id": "d4b6b981-571c-412a-924c-03427befebf4",
   "metadata": {},
   "outputs": [],
   "source": []
  }
 ],
 "metadata": {
  "kernelspec": {
   "display_name": "Python 3 (ipykernel)",
   "language": "python",
   "name": "python3"
  },
  "language_info": {
   "codemirror_mode": {
    "name": "ipython",
    "version": 3
   },
   "file_extension": ".py",
   "mimetype": "text/x-python",
   "name": "python",
   "nbconvert_exporter": "python",
   "pygments_lexer": "ipython3",
   "version": "3.11.7"
  }
 },
 "nbformat": 4,
 "nbformat_minor": 5
}
